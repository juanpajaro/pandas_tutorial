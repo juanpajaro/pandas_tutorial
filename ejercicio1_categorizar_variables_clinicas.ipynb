{
 "cells": [
  {
   "cell_type": "code",
   "execution_count": 1,
   "id": "3e751cd3",
   "metadata": {},
   "outputs": [],
   "source": [
    "import pandas as pd"
   ]
  },
  {
   "cell_type": "markdown",
   "id": "b7e9bd3d",
   "metadata": {},
   "source": [
    "Basándose en el dataset limpio, crea las siguientes categorizaciones médicas:\n",
    "\n",
    "1. Grupos de edad: Adulto Joven (18-39), Adulto Medio (40-64), Adulto Mayor (65+)\n",
    "2. Categorías de BMI según OMS: Bajo peso (<18.5), Normal (18.5-24.9), Sobrepeso (25-29.9), Obesidad (≥30)\n",
    "3. Categorías de presión arterial: Normal (<120/<80), Elevada (120-129/<80), Hipertensión Grado 1 (130-139/80-89), Hipertensión Grado 2 (≥140/≥90)"
   ]
  },
  {
   "cell_type": "code",
   "execution_count": 2,
   "id": "6028218c",
   "metadata": {},
   "outputs": [
    {
     "name": "stdout",
     "output_type": "stream",
     "text": [
      "   paciente_id  edad genero  presion_sistolica  presion_diastolica        bmi  \\\n",
      "0            1    69      F         130.580935           94.475869  19.208350   \n",
      "1            2    32      F         151.506283           81.061750  20.983929   \n",
      "2            3    78      M         119.246206           76.757640  30.598526   \n",
      "3            4    38      M         136.068895           88.029240  31.289343   \n",
      "4            5    41      F         144.685218           60.000000  29.260609   \n",
      "\n",
      "  diabetes               fecha_ingreso  \n",
      "0       No  2024-12-09 04:24:11.530268  \n",
      "1       Sí  2025-06-03 04:24:11.530268  \n",
      "2       No  2025-02-12 04:24:11.530268  \n",
      "3       No  2024-08-10 04:24:11.530268  \n",
      "4       No  2025-03-31 04:24:11.530268  \n"
     ]
    }
   ],
   "source": [
    "#Cargar el dataset\n",
    "df_pacientes = pd.read_csv('datos_pacientes_simulados.csv')\n",
    "print(df_pacientes.head())"
   ]
  },
  {
   "cell_type": "code",
   "execution_count": null,
   "id": "39a421c1",
   "metadata": {},
   "outputs": [],
   "source": []
  }
 ],
 "metadata": {
  "kernelspec": {
   "display_name": "myenv (3.9.6)",
   "language": "python",
   "name": "python3"
  },
  "language_info": {
   "codemirror_mode": {
    "name": "ipython",
    "version": 3
   },
   "file_extension": ".py",
   "mimetype": "text/x-python",
   "name": "python",
   "nbconvert_exporter": "python",
   "pygments_lexer": "ipython3",
   "version": "3.9.6"
  }
 },
 "nbformat": 4,
 "nbformat_minor": 5
}
