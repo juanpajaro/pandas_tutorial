{
 "cells": [
  {
   "cell_type": "code",
   "execution_count": 1,
   "id": "3e751cd3",
   "metadata": {},
   "outputs": [],
   "source": [
    "import pandas as pd"
   ]
  },
  {
   "cell_type": "code",
   "execution_count": 6,
   "id": "6028218c",
   "metadata": {},
   "outputs": [],
   "source": [
    "#Cargar el dataset\n",
    "df_pacientes = pd.read_csv('datos_pacientes_simulados.csv')"
   ]
  },
  {
   "cell_type": "markdown",
   "id": "89c2ea68",
   "metadata": {},
   "source": [
    "### imprimir las primeras 10 filas"
   ]
  },
  {
   "cell_type": "code",
   "execution_count": null,
   "id": "140e1ed1",
   "metadata": {},
   "outputs": [],
   "source": [
    "#solucion"
   ]
  },
  {
   "cell_type": "markdown",
   "id": "c086bf48",
   "metadata": {},
   "source": [
    "### ¿Cuantas columnas tiene el dataset?"
   ]
  },
  {
   "cell_type": "code",
   "execution_count": null,
   "id": "23335b15",
   "metadata": {},
   "outputs": [],
   "source": [
    "#solución"
   ]
  },
  {
   "cell_type": "markdown",
   "id": "f25e607c",
   "metadata": {},
   "source": [
    "### ¿Cuantas filas?"
   ]
  },
  {
   "cell_type": "code",
   "execution_count": null,
   "id": "f8630f30",
   "metadata": {},
   "outputs": [],
   "source": [
    "#solución"
   ]
  },
  {
   "cell_type": "markdown",
   "id": "69a2a0f7",
   "metadata": {},
   "source": [
    "### Usando el dataset, crea las siguientes categorizaciones médicas:\n",
    "\n",
    "- Grupos de edad: Adulto Joven (18-39), Adulto Medio (40-64), Adulto Mayor (65+)\n",
    "- Categorías de BMI según OMS: Bajo peso (<18.5), Normal (18.5-24.9), Sobrepeso (25-29.9), Obesidad (≥30)\n",
    "- Categorías de presión arterial: Normal (<120/<80), Elevada (120-129/<80), Hipertensión Grado 1 (130-139/80-89), Hipertensión Grado 2 (≥140/≥90)"
   ]
  },
  {
   "cell_type": "code",
   "execution_count": null,
   "id": "c98c2d4a",
   "metadata": {},
   "outputs": [],
   "source": [
    "def categorizar_edad(edad):\n",
    "    if 18 <= edad <= 39:\n",
    "        return 'Adulto Joven'\n",
    "    elif 40 <= edad <= 64:\n",
    "        return 'Adulto Medio'\n",
    "    elif edad >= 65:\n",
    "        return 'Adulto Mayor'\n",
    "    else:\n",
    "        return 'Desconocido'\n",
    "    \n",
    "df_pacientes['grupo_edad'] = df_pacientes['edad'].apply(categorizar_edad)\n",
    "\n",
    "#continuar solución"
   ]
  },
  {
   "cell_type": "code",
   "execution_count": 5,
   "id": "a5c235d5",
   "metadata": {},
   "outputs": [
    {
     "data": {
      "text/plain": [
       "Index(['paciente_id', 'edad', 'genero', 'presion_sistolica',\n",
       "       'presion_diastolica', 'bmi', 'diabetes', 'fecha_ingreso', 'grupo_Edad'],\n",
       "      dtype='object')"
      ]
     },
     "execution_count": 5,
     "metadata": {},
     "output_type": "execute_result"
    }
   ],
   "source": [
    "df_pacientes.columns"
   ]
  }
 ],
 "metadata": {
  "kernelspec": {
   "display_name": "myenv (3.9.6)",
   "language": "python",
   "name": "python3"
  },
  "language_info": {
   "codemirror_mode": {
    "name": "ipython",
    "version": 3
   },
   "file_extension": ".py",
   "mimetype": "text/x-python",
   "name": "python",
   "nbconvert_exporter": "python",
   "pygments_lexer": "ipython3",
   "version": "3.9.6"
  }
 },
 "nbformat": 4,
 "nbformat_minor": 5
}
