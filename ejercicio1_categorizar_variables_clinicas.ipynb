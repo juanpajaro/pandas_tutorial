{
 "cells": [
  {
   "cell_type": "code",
   "execution_count": 1,
   "id": "3e751cd3",
   "metadata": {},
   "outputs": [],
   "source": [
    "import pandas as pd"
   ]
  },
  {
   "cell_type": "code",
   "execution_count": 2,
   "id": "6028218c",
   "metadata": {},
   "outputs": [],
   "source": [
    "#Cargar el dataset\n",
    "df_pacientes = pd.read_csv('datos_pacientes_simulados.csv')"
   ]
  },
  {
   "cell_type": "markdown",
   "id": "89c2ea68",
   "metadata": {},
   "source": [
    "### imprimir las primeras 10 filas"
   ]
  },
  {
   "cell_type": "code",
   "execution_count": null,
   "id": "140e1ed1",
   "metadata": {},
   "outputs": [],
   "source": [
    "#solucion"
   ]
  },
  {
   "cell_type": "markdown",
   "id": "c086bf48",
   "metadata": {},
   "source": [
    "### ¿Cuantas columnas tiene el dataset?"
   ]
  },
  {
   "cell_type": "code",
   "execution_count": null,
   "id": "23335b15",
   "metadata": {},
   "outputs": [],
   "source": [
    "#solución"
   ]
  },
  {
   "cell_type": "markdown",
   "id": "f25e607c",
   "metadata": {},
   "source": [
    "### ¿Cuantas filas?"
   ]
  },
  {
   "cell_type": "code",
   "execution_count": null,
   "id": "f8630f30",
   "metadata": {},
   "outputs": [],
   "source": [
    "#solución"
   ]
  },
  {
   "cell_type": "markdown",
   "id": "69a2a0f7",
   "metadata": {},
   "source": [
    "### Usando el dataset, crea las siguientes categorizaciones médicas:\n",
    "\n",
    "### 1. Grupos de edad: Adulto Joven (18-39), Adulto Medio (40-64), Adulto Mayor (65+)"
   ]
  },
  {
   "cell_type": "code",
   "execution_count": 5,
   "id": "c98c2d4a",
   "metadata": {},
   "outputs": [],
   "source": [
    "def categorizar_edad(edad):\n",
    "    if 18 <= edad <= 39:\n",
    "        return 'Adulto Joven'\n",
    "    elif 40 <= edad <= 64:\n",
    "        return 'Adulto Medio'\n",
    "    elif edad >= 65:\n",
    "        return 'Adulto Mayor'\n",
    "    else:\n",
    "        return 'Desconocido'"
   ]
  },
  {
   "cell_type": "code",
   "execution_count": 6,
   "id": "35c43f77",
   "metadata": {},
   "outputs": [],
   "source": [
    "df_pacientes['grupo_edad'] = df_pacientes['edad'].apply(categorizar_edad)"
   ]
  },
  {
   "cell_type": "code",
   "execution_count": 7,
   "id": "6ea46e7a",
   "metadata": {},
   "outputs": [
    {
     "name": "stdout",
     "output_type": "stream",
     "text": [
      "Distribución de grupos de edad:\n",
      "grupo_edad\n",
      "Adulto Joven    328\n",
      "Adulto Mayor    316\n",
      "Adulto Medio    356\n",
      "Name: count, dtype: int64\n",
      "\n"
     ]
    }
   ],
   "source": [
    "print(\"Distribución de grupos de edad:\")\n",
    "print(df_pacientes['grupo_edad'].value_counts().sort_index())\n",
    "print()"
   ]
  },
  {
   "cell_type": "markdown",
   "id": "7c6d9e5c",
   "metadata": {},
   "source": [
    "### 2. Categorías de BMI según OMS: Bajo peso (<18.5), Normal (18.5-24.9), Sobrepeso (25-29.9), Obesidad (≥30)"
   ]
  },
  {
   "cell_type": "code",
   "execution_count": null,
   "id": "218c4a32",
   "metadata": {},
   "outputs": [],
   "source": [
    "#solucion\n",
    "#crear un función para categorizar el BMI"
   ]
  },
  {
   "cell_type": "code",
   "execution_count": null,
   "id": "50e69420",
   "metadata": {},
   "outputs": [],
   "source": [
    "#solución\n",
    "#jecutar la función y crear la nueva columna\n",
    "df_categorizado['categoria_bmi'] = df_categorizado['bmi'].apply(categorizar_bmi)"
   ]
  },
  {
   "cell_type": "code",
   "execution_count": null,
   "id": "636b7f2c",
   "metadata": {},
   "outputs": [],
   "source": [
    "#solucion\n",
    "print(\"Distribución de categorías de BMI:\")\n",
    "print(df_pacientes['categoria_bmi'].value_counts())\n",
    "print()"
   ]
  },
  {
   "cell_type": "markdown",
   "id": "f177062a",
   "metadata": {},
   "source": [
    "### 3. Categorías de presión arterial: Normal (<120/<80), Elevada (120-129/<80), Hipertensión Grado 1 (130-139/80-89), Hipertensión Grado 2 (≥140/≥90)"
   ]
  },
  {
   "cell_type": "code",
   "execution_count": 8,
   "id": "1b37e694",
   "metadata": {},
   "outputs": [],
   "source": [
    "#solucion\n",
    "#crear función para categorizar la presión arterial"
   ]
  },
  {
   "cell_type": "code",
   "execution_count": null,
   "id": "1c9e3397",
   "metadata": {},
   "outputs": [],
   "source": [
    "#solución\n",
    "#jecutar la función y crear la nueva columna\n",
    "df_categorizado['categoria_presion'] = df_categorizado.apply(\n",
    "    lambda row: categorizar_presion(row['presion_sistolica'], row['presion_diastolica']), \n",
    "    axis=1\n",
    ")"
   ]
  },
  {
   "cell_type": "code",
   "execution_count": null,
   "id": "f030af66",
   "metadata": {},
   "outputs": [],
   "source": [
    "print(\"Distribución de categorías de presión arterial:\")\n",
    "print(df_categorizado['categoria_presion'].value_counts())"
   ]
  },
  {
   "cell_type": "markdown",
   "id": "e4f7fec6",
   "metadata": {},
   "source": [
    "### Guardar el dataset, se requiere para el siguiente ejercicio"
   ]
  },
  {
   "cell_type": "code",
   "execution_count": 9,
   "id": "4a35eac2",
   "metadata": {},
   "outputs": [],
   "source": [
    "#solucion"
   ]
  }
 ],
 "metadata": {
  "kernelspec": {
   "display_name": "myenv (3.9.6)",
   "language": "python",
   "name": "python3"
  },
  "language_info": {
   "codemirror_mode": {
    "name": "ipython",
    "version": 3
   },
   "file_extension": ".py",
   "mimetype": "text/x-python",
   "name": "python",
   "nbconvert_exporter": "python",
   "pygments_lexer": "ipython3",
   "version": "3.9.6"
  }
 },
 "nbformat": 4,
 "nbformat_minor": 5
}
