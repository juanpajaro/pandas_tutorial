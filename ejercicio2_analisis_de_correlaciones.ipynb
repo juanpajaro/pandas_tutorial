{
 "cells": [
  {
   "cell_type": "code",
   "execution_count": 1,
   "id": "bac86492",
   "metadata": {},
   "outputs": [],
   "source": [
    "import pandas as pd"
   ]
  },
  {
   "cell_type": "code",
   "execution_count": 2,
   "id": "d2a3b7c6",
   "metadata": {},
   "outputs": [],
   "source": [
    "datos = pd.read_csv('datos_pacientes_simulados.csv')"
   ]
  },
  {
   "cell_type": "markdown",
   "id": "0314b836",
   "metadata": {},
   "source": [
    "#### Analiza las correlaciones entre variables numéricas y la asociación entre diabetes y otros factores de riesgo:\n",
    "\n",
    "- Calcula la matriz de correlación entre variables numéricas.\n",
    "- Crea una tabla de contingencia entre diabetes y categorías de BMI.\n",
    "- Calcula el riesgo relativo de diabetes por grupo de edad."
   ]
  },
  {
   "cell_type": "code",
   "execution_count": 3,
   "id": "aa9c5d72",
   "metadata": {},
   "outputs": [],
   "source": [
    "# 1. Matriz de correlación entre variables numéricas\n",
    "variables_numericas = ['edad', 'presion_sistolica', 'presion_diastolica', 'bmi']\n",
    "matriz_correlacion = datos[variables_numericas].corr()\n"
   ]
  },
  {
   "cell_type": "code",
   "execution_count": null,
   "id": "6cb2d9ed",
   "metadata": {},
   "outputs": [],
   "source": [
    "# Identificar correlaciones más fuertes (excluyendo la diagonal)\n",
    "correlaciones_fuertes = []"
   ]
  }
 ],
 "metadata": {
  "kernelspec": {
   "display_name": "myenv (3.9.6)",
   "language": "python",
   "name": "python3"
  },
  "language_info": {
   "codemirror_mode": {
    "name": "ipython",
    "version": 3
   },
   "file_extension": ".py",
   "mimetype": "text/x-python",
   "name": "python",
   "nbconvert_exporter": "python",
   "pygments_lexer": "ipython3",
   "version": "3.9.6"
  }
 },
 "nbformat": 4,
 "nbformat_minor": 5
}
