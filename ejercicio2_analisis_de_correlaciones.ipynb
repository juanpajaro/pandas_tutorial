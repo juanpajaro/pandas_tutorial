{
 "cells": [
  {
   "cell_type": "code",
   "execution_count": null,
   "id": "bac86492",
   "metadata": {},
   "outputs": [],
   "source": [
    "import pandas as pd"
   ]
  },
  {
   "cell_type": "code",
   "execution_count": null,
   "id": "d2a3b7c6",
   "metadata": {},
   "outputs": [],
   "source": [
    "datos = pd.read_csv('datos_pacientes_simulados.csv')"
   ]
  },
  {
   "cell_type": "markdown",
   "id": "0314b836",
   "metadata": {},
   "source": [
    "#### Analiza las correlaciones entre variables numéricas y la asociación entre diabetes y otros factores de riesgo:\n"
   ]
  },
  {
   "cell_type": "markdown",
   "id": "05e48d96",
   "metadata": {},
   "source": [
    "### 4. Cacular la matriz de correlación entre variables numericas"
   ]
  },
  {
   "cell_type": "code",
   "execution_count": null,
   "id": "aa9c5d72",
   "metadata": {},
   "outputs": [],
   "source": [
    "# 1. Matriz de correlación entre variables numéricas\n",
    "variables_numericas = ['edad', 'presion_sistolica', 'presion_diastolica', 'bmi']\n",
    "matriz_correlacion = None"
   ]
  },
  {
   "cell_type": "code",
   "execution_count": null,
   "id": "74a3121f",
   "metadata": {},
   "outputs": [],
   "source": [
    "matriz_correlacion.columns"
   ]
  },
  {
   "cell_type": "code",
   "execution_count": null,
   "id": "6cb2d9ed",
   "metadata": {},
   "outputs": [],
   "source": [
    "# Identificar correlaciones más fuertes (excluyendo la diagonal)\n",
    "correlaciones_fuertes = []\n",
    "for i in range(len(matriz_correlacion.columns)):\n",
    "    for j in range(i + 1, len(matriz_correlacion.columns)):\n",
    "        valor_correlacion = matriz_correlacion.iloc[i, j]\n",
    "        if abs(valor_correlacion) > 0.3:\n",
    "            correlaciones_fuertes.append((matriz_correlacion.columns[i], matriz_correlacion.columns[j], valor_correlacion))\n",
    "\n",
    "print(\"Correlaciones fuertes (|r| > 0.5):\")\n",
    "for var1, var2, valor in correlaciones_fuertes:\n",
    "    print(f\"{var1} y {var2}: {valor:.2f}\")\n"
   ]
  },
  {
   "cell_type": "markdown",
   "id": "5a6d47ef",
   "metadata": {},
   "source": [
    "### 5. Crear una tabla de contingencia entre diabetes y categorías de BMI"
   ]
  },
  {
   "cell_type": "code",
   "execution_count": null,
   "id": "87a4573b",
   "metadata": {},
   "outputs": [],
   "source": [
    "#solucion\n",
    "# 2. Tabla de contingencia entre diabetes y categorías de BMI\n",
    "print(\"=== TABLA DE CONTINGENCIA: DIABETES vs BMI ===\")\n",
    "tabla_contingencia = pd.crosstab(datos['categoria_bmi'], \n",
    "                                datos['diabetes'], \n",
    "                                margins=True, \n",
    "                                margins_name='Total')\n",
    "print(tabla_contingencia)"
   ]
  }
 ],
 "metadata": {
  "kernelspec": {
   "display_name": "myenv (3.9.6)",
   "language": "python",
   "name": "python3"
  },
  "language_info": {
   "codemirror_mode": {
    "name": "ipython",
    "version": 3
   },
   "file_extension": ".py",
   "mimetype": "text/x-python",
   "name": "python",
   "nbconvert_exporter": "python",
   "pygments_lexer": "ipython3",
   "version": "3.9.6"
  }
 },
 "nbformat": 4,
 "nbformat_minor": 5
}
